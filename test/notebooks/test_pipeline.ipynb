{
 "cells": [
  {
   "cell_type": "code",
   "execution_count": null,
   "id": "095849df-8d54-43d5-a9be-c6f84f0fbd8b",
   "metadata": {
    "tags": []
   },
   "outputs": [],
   "source": [
    "import sys\n",
    "import os\n",
    "\n",
    "sys.path.append(os.path.abspath(os.path.join(os.getcwd(), '..', '..')))\n",
    "import prometheux_chain as px\n",
    "\n",
    "px_TOKEN = \"dev-token\"\n",
    "os.environ[\"px_TOKEN\"] = px_TOKEN"
   ]
  },
  {
   "cell_type": "markdown",
   "id": "fe6f3994",
   "metadata": {},
   "source": [
    "#### Project functions"
   ]
  },
  {
   "cell_type": "code",
   "execution_count": null,
   "id": "aebefc0a",
   "metadata": {},
   "outputs": [],
   "source": [
    "px.cleanup_projects()"
   ]
  },
  {
   "cell_type": "code",
   "execution_count": null,
   "id": "4ab1ca82",
   "metadata": {},
   "outputs": [],
   "source": [
    "project_id = px.save_project(project_name=\"test_project\")\n",
    "project_id"
   ]
  },
  {
   "cell_type": "code",
   "execution_count": null,
   "id": "77530416",
   "metadata": {},
   "outputs": [],
   "source": [
    "px.list_projects()"
   ]
  },
  {
   "cell_type": "code",
   "execution_count": null,
   "id": "ab28a457",
   "metadata": {},
   "outputs": [],
   "source": [
    "project = px.load_project(project_id=project_id)\n",
    "project"
   ]
  },
  {
   "cell_type": "markdown",
   "id": "b2b345e0",
   "metadata": {},
   "source": [
    "#### Data functions"
   ]
  },
  {
   "cell_type": "code",
   "execution_count": null,
   "id": "7a40b961",
   "metadata": {},
   "outputs": [],
   "source": [
    "#px.cleanup_sources()"
   ]
  },
  {
   "cell_type": "code",
   "execution_count": null,
   "id": "7331be80",
   "metadata": {},
   "outputs": [],
   "source": [
    "db = px.data.database.Database(\n",
    "    database_type=\"csv\",\n",
    "    username=\"\",\n",
    "    password=\"\",\n",
    "    host=os.getcwd() + \"/../resources/ownership\",\n",
    "    port=0000,\n",
    "    database_name=\"ownership.csv\",\n",
    "    options={} #{\"delimiter\": \"\\t\"}\n",
    ")\n",
    "px.connect_sources(database_payload=db)"
   ]
  },
  {
   "cell_type": "code",
   "execution_count": null,
   "id": "fcf82eb9",
   "metadata": {},
   "outputs": [],
   "source": [
    "px.list_sources()"
   ]
  },
  {
   "cell_type": "code",
   "execution_count": null,
   "id": "5fa69de7",
   "metadata": {},
   "outputs": [],
   "source": [
    "px.infer_schema(database=db, add_bind=True, add_model=False)"
   ]
  },
  {
   "cell_type": "markdown",
   "id": "2722c6c0",
   "metadata": {},
   "source": [
    "#### Concept functions"
   ]
  },
  {
   "cell_type": "code",
   "execution_count": null,
   "id": "d6a8525c",
   "metadata": {},
   "outputs": [],
   "source": [
    "#px.cleanup_concepts(project_id=project_id)"
   ]
  },
  {
   "cell_type": "code",
   "execution_count": null,
   "id": "ba511a95",
   "metadata": {},
   "outputs": [],
   "source": [
    "concept_logic = \"\"\"\n",
    "ownership(Owner,Company,Shares) :- ownership_csv(Owner,Company,Shares).\n",
    "@output(\"ownership\").\n",
    "\"\"\"\n",
    "\n",
    "px.save_concept(project_id=project_id, concept_logic=concept_logic)\n",
    "\n",
    "concept_logic = \"\"\"\n",
    "owner(Owner) :- ownership(Owner,Company,Shares).\n",
    "@output(\"owner\").\n",
    "\"\"\"\n",
    "\n",
    "px.save_concept(project_id=project_id, concept_logic=concept_logic)\n",
    "\n",
    "concept_logic = \"\"\"\n",
    "company(\"Apple\", \"Redwood City, CA\").\n",
    "company(\"Google\", \"Mountain View, CA\").\n",
    "company(\"Microsoft\", \"Redmond, WA\").\n",
    "company(\"Amazon\", \"Seattle, WA\").\n",
    "company(\"Facebook\", \"Menlo Park, CA\").\n",
    "company(\"Twitter\", \"San Francisco, CA\").\n",
    "company(\"LinkedIn\", \"Sunnyvale, CA\").\n",
    "company(\"Instagram\", \"Menlo Park, CA\").\n",
    "\n",
    "location(Location) :- company(_,Location).\n",
    "\n",
    "@output(\"location\").\n",
    "\"\"\"\n",
    "\n",
    "px.save_concept(project_id=project_id, concept_logic=concept_logic)"
   ]
  },
  {
   "cell_type": "code",
   "execution_count": null,
   "id": "7ea2d2d6",
   "metadata": {},
   "outputs": [],
   "source": [
    "px.run_concept(project_id=project_id, concept_name=\"ownership\", persist_outputs=True)"
   ]
  },
  {
   "cell_type": "code",
   "execution_count": null,
   "id": "457d43ba",
   "metadata": {},
   "outputs": [],
   "source": [
    "px.run_concept(project_id=project_id, concept_name=\"location\", persist_outputs=False)"
   ]
  },
  {
   "cell_type": "code",
   "execution_count": null,
   "id": "b3fcd76f",
   "metadata": {},
   "outputs": [],
   "source": [
    "python_script = \"\"\"\n",
    "import json\n",
    "\n",
    "def main():\n",
    "    # Simple calculations\n",
    "    numbers = [1, 2, 3, 4, 5, 6, 7, 8, 9, 10]\n",
    "    \n",
    "    # Calculate basic statistics\n",
    "    total = sum(numbers)\n",
    "    average = total / len(numbers)\n",
    "    maximum = max(numbers)\n",
    "    minimum = min(numbers)\n",
    "    \n",
    "    # Create results as a list of dictionaries (tabular format)\n",
    "    results = [\n",
    "        {\n",
    "            \"Numbers\": numbers,\n",
    "            \"Total\": total,\n",
    "            \"Average\": round(average, 2),\n",
    "            \"Maximum\": maximum,\n",
    "            \"Minimum\": minimum,\n",
    "            \"Count\": len(numbers)\n",
    "        }\n",
    "    ]\n",
    "    \n",
    "    return results\n",
    "\"\"\"\n",
    "\n",
    "px.save_concept(project_id=project_id, \n",
    "                concept_logic=\"@output(\\\"test_python\\\").\\ntest_python(Numbers,Total,Average,Maximum,Minimum,Count) :- python:run(\\\"python_script\\\").\",\n",
    "                python_scripts={\n",
    "                     \"python_script\": python_script\n",
    "                 })\n",
    "\n",
    "px.run_concept(project_id=project_id, \n",
    "                 concept_name=\"test_python\")"
   ]
  },
  {
   "cell_type": "code",
   "execution_count": null,
   "id": "af4b985b",
   "metadata": {},
   "outputs": [],
   "source": [
    "px.list_concepts(project_id=project_id)"
   ]
  },
  {
   "cell_type": "markdown",
   "id": "55eb4771",
   "metadata": {},
   "source": [
    "##### KG functions"
   ]
  },
  {
   "cell_type": "code",
   "execution_count": null,
   "id": "e9a7aea9",
   "metadata": {},
   "outputs": [],
   "source": [
    "px.save_kg(project_id=project_id, concepts=[\"owner\", \"location\"])"
   ]
  },
  {
   "cell_type": "code",
   "execution_count": null,
   "id": "05eb68eb",
   "metadata": {},
   "outputs": [],
   "source": [
    "px.load_kg(project_id=project_id)"
   ]
  },
  {
   "cell_type": "markdown",
   "id": "20424efe",
   "metadata": {},
   "source": [
    "#### Copy project function"
   ]
  },
  {
   "cell_type": "code",
   "execution_count": null,
   "id": "08b2cb2c",
   "metadata": {},
   "outputs": [],
   "source": [
    "px.copy_project(project_id=project_id, workspace_id=\"workspace_id\", new_project_name=\"copied_project\")"
   ]
  },
  {
   "cell_type": "code",
   "execution_count": null,
   "id": "fa975731",
   "metadata": {},
   "outputs": [],
   "source": [
    "px.list_projects()"
   ]
  },
  {
   "cell_type": "markdown",
   "id": "6030da6c",
   "metadata": {},
   "source": [
    "#### GraphRAG function"
   ]
  },
  {
   "cell_type": "code",
   "execution_count": null,
   "id": "c657d76e",
   "metadata": {},
   "outputs": [],
   "source": [
    "graph_rag_result = px.graph_rag(project_id=project_id,\n",
    "                                  question=\"This is the question\", \n",
    "                                  rag_concepts=[{\"concept\": \"ownership\", \"field_to_embed\": \"Owner\"}],\n",
    "                                  graph_selected_concepts=[\"owner\"])\n",
    "\n",
    "graph_rag_result['graph_rag_results']"
   ]
  }
 ],
 "metadata": {
  "kernelspec": {
   "display_name": "venv",
   "language": "python",
   "name": "python3"
  },
  "language_info": {
   "codemirror_mode": {
    "name": "ipython",
    "version": 3
   },
   "file_extension": ".py",
   "mimetype": "text/x-python",
   "name": "python",
   "nbconvert_exporter": "python",
   "pygments_lexer": "ipython3",
   "version": "3.9.10"
  },
  "vadalog": {
   "programParameters": [],
   "version": 1
  }
 },
 "nbformat": 4,
 "nbformat_minor": 5
}
