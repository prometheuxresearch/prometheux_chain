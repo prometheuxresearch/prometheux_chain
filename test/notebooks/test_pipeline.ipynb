{
 "cells": [
  {
   "cell_type": "code",
   "execution_count": 1,
   "id": "095849df-8d54-43d5-a9be-c6f84f0fbd8b",
   "metadata": {
    "tags": []
   },
   "outputs": [],
   "source": [
    "import sys\n",
    "import os\n",
    "\n",
    "sys.path.append(os.path.abspath(os.path.join(os.getcwd(), '..', '..')))\n",
    "import prometheux_chain as pmtx"
   ]
  },
  {
   "cell_type": "code",
   "execution_count": 2,
   "id": "823631cf-0d4c-4440-929a-9e4565697133",
   "metadata": {
    "jupyter": {
     "source_hidden": true
    },
    "tags": []
   },
   "outputs": [],
   "source": [
    "import os\n",
    "\n",
    "PMTX_TOKEN = \"\"\n",
    "os.environ[\"PMTX_TOKEN\"] = PMTX_TOKEN"
   ]
  },
  {
   "cell_type": "code",
   "execution_count": 3,
   "id": "47e68ed3",
   "metadata": {},
   "outputs": [],
   "source": [
    "pmtx.config.set(\"LLM_PROVIDER\", \"openai\")\n",
    "pmtx.config.set(\"LLM_API_KEY\", \"\")\n",
    "pmtx.config.set(\"LLM_VERSION\", \"gpt-4o\")\n",
    "pmtx.config.set(\"LLM_TEMPERATURE\", 0.5)\n",
    "pmtx.config.set(\"LLM_MAX_TOKENS\", 4096)\n",
    "\n",
    "pmtx.config.set(\"EMBEDDING_PROVIDER\", \"openai\")\n",
    "pmtx.config.set(\"EMBEDDING_API_KEY\", \"\")\n",
    "pmtx.config.set(\"EMBEDDING_VERSION\", \"text-embedding-3-large\")\n",
    "pmtx.config.set(\"EMBEDDING_DIMENSIONS\", 2048)"
   ]
  },
  {
   "cell_type": "code",
   "execution_count": null,
   "id": "aebefc0a",
   "metadata": {},
   "outputs": [],
   "source": [
    "pmtx.cleanup_projects()"
   ]
  },
  {
   "cell_type": "code",
   "execution_count": null,
   "id": "4ab1ca82",
   "metadata": {},
   "outputs": [],
   "source": [
    "project_id = pmtx.save_project(project_name=\"test_project\")\n",
    "project_id"
   ]
  },
  {
   "cell_type": "code",
   "execution_count": null,
   "id": "77530416",
   "metadata": {},
   "outputs": [],
   "source": [
    "pmtx.list_projects()"
   ]
  },
  {
   "cell_type": "code",
   "execution_count": null,
   "id": "ab28a457",
   "metadata": {},
   "outputs": [],
   "source": [
    "project = pmtx.load_project(project_id=project_id)\n",
    "project_id = project.get('id')\n",
    "project_scope = project.get('scope')\n",
    "project"
   ]
  },
  {
   "cell_type": "code",
   "execution_count": null,
   "id": "1cf9bb33",
   "metadata": {},
   "outputs": [],
   "source": [
    "pmtx.cleanup_sources(project_id=project_id, project_scope=project_scope)"
   ]
  },
  {
   "cell_type": "code",
   "execution_count": null,
   "id": "8b6e362a",
   "metadata": {},
   "outputs": [],
   "source": [
    "db = pmtx.model.database.Database(\n",
    "    database_type=\"csv\",\n",
    "    username=\"\",\n",
    "    password=\"\",\n",
    "    host=\"/Users/teodorobaldazzi/Documents/workdir/prometheux/prometheux_chain/test/resources/ownership\",\n",
    "    port=0000,\n",
    "    database_name=\"people.csv\",\n",
    "    options={} #{\"delimiter\": \"\\t\"}\n",
    ")\n",
    "pmtx.connect_sources(project_id=project_id, project_scope=project_scope, database_payload=db, add_model=True)\n",
    "\n",
    "db = pmtx.model.database.Database(\n",
    "    database_type=\"csv\",\n",
    "    username=\"\",\n",
    "    password=\"\",\n",
    "    host=\"/Users/teodorobaldazzi/Documents/workdir/prometheux/prometheux_chain/test/resources/ownership\",\n",
    "    port=0000,\n",
    "    database_name=\"ownership.csv\",\n",
    "    options={} #{\"delimiter\": \"\\t\"}\n",
    ")\n",
    "pmtx.connect_sources(project_id=project_id, project_scope=project_scope, database_payload=db, add_model=True)\n",
    "\n",
    "db = pmtx.model.database.Database(\n",
    "    database_type=\"csv\",\n",
    "    username=\"\",\n",
    "    password=\"\",\n",
    "    host=\"/Users/teodorobaldazzi/Documents/workdir/prometheux/prometheux_chain/test/resources/ownership\",\n",
    "    port=0000,\n",
    "    database_name=\"companies.csv\",\n",
    "    options={} #{\"delimiter\": \"\\t\"}\n",
    ")\n",
    "pmtx.connect_sources(project_id=project_id, project_scope=project_scope, database_payload=db, add_model=True)\n",
    "\n",
    "\n",
    "# db = pmtx.model.database.Database(\n",
    "#     database_type=\"neo4j\",\n",
    "#     username=\"neo4j\",\n",
    "#     password=\"\",\n",
    "#     host=\"neo4j.het.io\",\n",
    "#     port=7687,\n",
    "#     database_name=\"neo4j\"\n",
    "# )\n",
    "# pmtx.connect_sources(project_id=project_id, project_scope=project_scope, database_payload=db, add_model=True)"
   ]
  },
  {
   "cell_type": "code",
   "execution_count": null,
   "id": "2e162282",
   "metadata": {},
   "outputs": [],
   "source": [
    "project_sources = pmtx.list_sources(project_id=project_id, project_scope=project_scope)\n",
    "project_sources"
   ]
  },
  {
   "cell_type": "code",
   "execution_count": null,
   "id": "4ae0f825",
   "metadata": {},
   "outputs": [],
   "source": [
    "pmtx.cleanup_sources(project_id=project_id, project_scope=project_scope, source_ids=[project_sources[0]['id']])"
   ]
  },
  {
   "cell_type": "code",
   "execution_count": null,
   "id": "3e3f4c8a",
   "metadata": {},
   "outputs": [],
   "source": [
    "pmtx.list_sources(project_id=project_id, project_scope=project_scope)"
   ]
  },
  {
   "cell_type": "code",
   "execution_count": null,
   "id": "d6a8525c",
   "metadata": {},
   "outputs": [],
   "source": [
    "pmtx.list_concepts(project_id=project_id, project_scope=project_scope)"
   ]
  },
  {
   "cell_type": "code",
   "execution_count": null,
   "id": "da44109d",
   "metadata": {},
   "outputs": [],
   "source": [
    "pmtx.cleanup_notebooks(project_id=project_id, project_scope=project_scope)"
   ]
  },
  {
   "cell_type": "code",
   "execution_count": null,
   "id": "5bcd9ade",
   "metadata": {},
   "outputs": [],
   "source": [
    "notebook_id = pmtx.save_notebook(project_id=project_id, project_scope=project_scope, notebook_name=\"test_notebook\")\n",
    "notebook_id"
   ]
  },
  {
   "cell_type": "code",
   "execution_count": null,
   "id": "e4358f56",
   "metadata": {},
   "outputs": [],
   "source": [
    "pmtx.load_notebook(project_id=project_id, notebook_id=notebook_id, project_scope=project_scope)"
   ]
  },
  {
   "cell_type": "code",
   "execution_count": null,
   "id": "e72fe719",
   "metadata": {},
   "outputs": [],
   "source": [
    "pmtx.list_notebooks(project_id=project_id, project_scope=project_scope)"
   ]
  },
  {
   "cell_type": "code",
   "execution_count": null,
   "id": "1d220b08",
   "metadata": {},
   "outputs": [],
   "source": [
    "pmtx.cleanup_cells(project_id=project_id, notebook_id=notebook_id, project_scope=project_scope)"
   ]
  },
  {
   "cell_type": "code",
   "execution_count": null,
   "id": "94340b09",
   "metadata": {},
   "outputs": [],
   "source": [
    "cell_content = \"\"\"\n",
    "test1(Name, Age) :- people_csv(Name, Age).\n",
    "@output(\"test1\").\n",
    "\"\"\"\n",
    "pmtx.run_cell(project_id=project_id, project_scope=project_scope, notebook_id=notebook_id, cell_content=cell_content, cell_position=1)"
   ]
  },
  {
   "cell_type": "code",
   "execution_count": null,
   "id": "750d74e3",
   "metadata": {},
   "outputs": [],
   "source": [
    "cell_content = \"\"\"\n",
    "test2(Owner, Company) :- ownership_csv(Owner, Company, Share).\n",
    "@output(\"test2\").\n",
    "\"\"\"\n",
    "cell_id = pmtx.save_cell(project_id=project_id, project_scope=project_scope, notebook_id=notebook_id, cell_content=cell_content, cell_position=2)\n",
    "cell_id"
   ]
  },
  {
   "cell_type": "code",
   "execution_count": null,
   "id": "6bb8ff6d",
   "metadata": {},
   "outputs": [],
   "source": [
    "cell_content = \"\"\"\n",
    "test2(Owner, Company) :- ownership_csv(Owner, Company, Share).\n",
    "@output(\"test2\").\n",
    "\"\"\"\n",
    "pmtx.run_cell(project_id=project_id, project_scope=project_scope, notebook_id=notebook_id, cell_content=cell_content, cell_position=2, cell_id=cell_id)"
   ]
  },
  {
   "cell_type": "code",
   "execution_count": null,
   "id": "938b908a",
   "metadata": {},
   "outputs": [],
   "source": [
    "cell_content = \"\"\"\n",
    "personOfInterest(\"Emily Green\").\n",
    "personOfInterest(\"Daniel Black\").\n",
    "personOfInterest(\"Alice Johnson\").\n",
    "test3(Name, Company) :- test1(Name, Age), personOfInterest(Name), test2(Name, Company).\n",
    "@output(\"test3\").\n",
    "\"\"\"\n",
    "pmtx.run_cell(project_id=project_id, project_scope=project_scope, notebook_id=notebook_id, cell_content=cell_content, cell_position=3)"
   ]
  },
  {
   "cell_type": "code",
   "execution_count": null,
   "id": "469f7cdf",
   "metadata": {},
   "outputs": [],
   "source": [
    "project_notebook_cells = pmtx.list_cells(project_id=project_id, project_scope=project_scope, notebook_id=notebook_id)\n",
    "project_notebook_cells"
   ]
  },
  {
   "cell_type": "code",
   "execution_count": null,
   "id": "92ae9aa9",
   "metadata": {},
   "outputs": [],
   "source": [
    "pmtx.list_cell_outputs(project_id=project_id, project_scope=project_scope, notebook_id=notebook_id, cell_id=project_notebook_cells[2]['id'], output_predicate=\"test3\")"
   ]
  },
  {
   "cell_type": "code",
   "execution_count": null,
   "id": "c1449140",
   "metadata": {},
   "outputs": [],
   "source": [
    "pmtx.list_cell_outputs(project_id=project_id, project_scope=project_scope, notebook_id=notebook_id, cell_id=project_notebook_cells[2]['id'], output_predicate=\"test3\", page=2)"
   ]
  },
  {
   "cell_type": "code",
   "execution_count": 26,
   "id": "ca4475d6",
   "metadata": {},
   "outputs": [],
   "source": [
    "# pmtx.cleanup_cells(project_id=project_id, project_scope=project_scope, notebook_id=notebook_id, cell_ids=[project_notebook_cells[2]['id']])"
   ]
  },
  {
   "cell_type": "code",
   "execution_count": null,
   "id": "7514d057",
   "metadata": {},
   "outputs": [],
   "source": [
    "pmtx.list_cells(project_id=project_id, project_scope=project_scope, notebook_id=notebook_id)"
   ]
  },
  {
   "cell_type": "code",
   "execution_count": null,
   "id": "1cc95248",
   "metadata": {},
   "outputs": [],
   "source": [
    "cell_content = \"\"\"\n",
    "test4(Name, Age, Company) :- test1(Name, Age), test3(Name, Company).\n",
    "@output(\"test4\").\n",
    "\"\"\"\n",
    "pmtx.save_cell(project_id=project_id, project_scope=project_scope, notebook_id=notebook_id, cell_content=cell_content, cell_position=4)"
   ]
  },
  {
   "cell_type": "code",
   "execution_count": null,
   "id": "c080d179",
   "metadata": {},
   "outputs": [],
   "source": [
    "pmtx.load_notebook(project_id=project_id, notebook_id=notebook_id, project_scope=project_scope)"
   ]
  },
  {
   "cell_type": "code",
   "execution_count": null,
   "id": "6bf903a0",
   "metadata": {},
   "outputs": [],
   "source": [
    "pmtx.cleanup_notebooks(project_id=project_id, project_scope=project_scope, notebook_ids=[notebook_id])"
   ]
  },
  {
   "cell_type": "code",
   "execution_count": null,
   "id": "9433aabb",
   "metadata": {},
   "outputs": [],
   "source": [
    "pmtx.list_concepts(project_id=project_id, project_scope=project_scope)"
   ]
  },
  {
   "cell_type": "code",
   "execution_count": null,
   "id": "03a8e7b0",
   "metadata": {},
   "outputs": [],
   "source": [
    "pmtx.cleanup_kgs(project_id=project_id, project_scope=project_scope)"
   ]
  },
  {
   "cell_type": "code",
   "execution_count": null,
   "id": "05d8a105",
   "metadata": {},
   "outputs": [],
   "source": [
    "kg_id = pmtx.save_kg(project_id=project_id, project_scope=project_scope, kg_name=\"test_kg\", kg_concepts=[\"test1\",\"test2\",\"test4\"])"
   ]
  },
  {
   "cell_type": "code",
   "execution_count": null,
   "id": "06152070",
   "metadata": {},
   "outputs": [],
   "source": [
    "kg_id = pmtx.build_kg(project_id=project_id, project_scope=project_scope, kg_id=kg_id, kg_name=\"test_kg\", kg_concepts=[\"test1\",\"test2\",\"test4\"], to_persist=True)"
   ]
  },
  {
   "cell_type": "code",
   "execution_count": null,
   "id": "f13653f4",
   "metadata": {},
   "outputs": [],
   "source": [
    "kg = pmtx.load_kg(project_id=project_id, project_scope=project_scope, kg_id=kg_id)"
   ]
  },
  {
   "cell_type": "code",
   "execution_count": null,
   "id": "472171c7",
   "metadata": {},
   "outputs": [],
   "source": [
    "pmtx.visualize_kg_concepts(project_id=project_id, project_scope=project_scope, kg_id=kg_id)"
   ]
  },
  {
   "cell_type": "code",
   "execution_count": null,
   "id": "61d082b2",
   "metadata": {},
   "outputs": [],
   "source": [
    "pmtx.cleanup_kg_cells(project_id=project_id, kg_id=kg_id, project_scope=project_scope)"
   ]
  },
  {
   "cell_type": "code",
   "execution_count": null,
   "id": "9bef154a",
   "metadata": {},
   "outputs": [],
   "source": [
    "cell_content = \"\"\"\n",
    "test5(Company) :- test4(Name, Age, Company).\n",
    "@output(\"test5\").\n",
    "\"\"\"\n",
    "kg_cell_id = pmtx.save_kg_cell(project_id=project_id, project_scope=project_scope, kg_id=kg_id, cell_content=cell_content, cell_position=1)\n",
    "kg_cell_id"
   ]
  },
  {
   "cell_type": "code",
   "execution_count": null,
   "id": "2cc82a96",
   "metadata": {},
   "outputs": [],
   "source": [
    "cell_content = \"\"\"\n",
    "test5(Company) :- test4(Name, Age, Company).\n",
    "@output(\"test5\").\n",
    "\"\"\"\n",
    "pmtx.run_kg_cell(project_id=project_id, project_scope=project_scope, kg_id=kg_id, cell_content=cell_content, cell_position=1, cell_id=kg_cell_id)"
   ]
  },
  {
   "cell_type": "code",
   "execution_count": null,
   "id": "63506271",
   "metadata": {},
   "outputs": [],
   "source": [
    "project_kg_cells = pmtx.list_kg_cells(project_id=project_id, project_scope=project_scope, kg_id=kg_id)\n",
    "project_kg_cells"
   ]
  },
  {
   "cell_type": "code",
   "execution_count": null,
   "id": "2335e9ad",
   "metadata": {},
   "outputs": [],
   "source": [
    "kg = pmtx.load_kg(project_id=project_id, project_scope=project_scope, kg_id=kg_id)"
   ]
  },
  {
   "cell_type": "code",
   "execution_count": null,
   "id": "ed1d087b",
   "metadata": {},
   "outputs": [],
   "source": [
    "pmtx.list_kg_cell_outputs(project_id=project_id, project_scope=project_scope, kg_id=kg_id, cell_id=project_kg_cells[0]['id'], output_predicate=\"test5\", page=1)"
   ]
  },
  {
   "cell_type": "code",
   "execution_count": null,
   "id": "e7a5ed47",
   "metadata": {},
   "outputs": [],
   "source": [
    "pmtx.cleanup_kg_cells(project_id=project_id, project_scope=project_scope, kg_id=kg_id, cell_ids=[project_kg_cells[0]['id']])"
   ]
  },
  {
   "cell_type": "code",
   "execution_count": null,
   "id": "f91d511f",
   "metadata": {},
   "outputs": [],
   "source": [
    "project_kg_cells = pmtx.list_kg_cells(project_id=project_id, project_scope=project_scope, kg_id=kg_id)\n",
    "project_kg_cells"
   ]
  },
  {
   "cell_type": "code",
   "execution_count": null,
   "id": "90d28856",
   "metadata": {},
   "outputs": [],
   "source": [
    "pmtx.cleanup_kg_chat(project_id=project_id, project_scope=project_scope, kg_id=kg_id)"
   ]
  },
  {
   "cell_type": "code",
   "execution_count": null,
   "id": "e69586f0",
   "metadata": {},
   "outputs": [],
   "source": [
    "chat_id = pmtx.run_kg_chat(project_id=project_id, project_scope=project_scope, kg_id=kg_id, question=\"What are the companies of John Doe?\", prompt_tuning=\"Reply in Italian\").get('id')"
   ]
  },
  {
   "cell_type": "code",
   "execution_count": null,
   "id": "edc1ff7d",
   "metadata": {},
   "outputs": [],
   "source": [
    "pmtx.list_kg_chat(project_id=project_id, project_scope=project_scope, kg_id=kg_id)"
   ]
  },
  {
   "cell_type": "code",
   "execution_count": null,
   "id": "9bbc2329",
   "metadata": {},
   "outputs": [],
   "source": [
    "pmtx.cleanup_kg_chat(project_id=project_id, project_scope=project_scope, kg_id=kg_id, chat_ids=[chat_id])"
   ]
  },
  {
   "cell_type": "code",
   "execution_count": null,
   "id": "f2f950b1",
   "metadata": {},
   "outputs": [],
   "source": [
    "pmtx.list_kg_chat(project_id=project_id, project_scope=project_scope, kg_id=kg_id)"
   ]
  }
 ],
 "metadata": {
  "kernelspec": {
   "display_name": "venv",
   "language": "python",
   "name": "python3"
  },
  "language_info": {
   "codemirror_mode": {
    "name": "ipython",
    "version": 3
   },
   "file_extension": ".py",
   "mimetype": "text/x-python",
   "name": "python",
   "nbconvert_exporter": "python",
   "pygments_lexer": "ipython3",
   "version": "3.9.10"
  },
  "vadalog": {
   "programParameters": [],
   "version": 1
  }
 },
 "nbformat": 4,
 "nbformat_minor": 5
}
