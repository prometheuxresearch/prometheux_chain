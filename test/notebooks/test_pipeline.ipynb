{
 "cells": [
  {
   "cell_type": "code",
   "execution_count": 1,
   "id": "095849df-8d54-43d5-a9be-c6f84f0fbd8b",
   "metadata": {
    "tags": []
   },
   "outputs": [],
   "source": [
    "import sys\n",
    "import os\n",
    "\n",
    "sys.path.append(os.path.abspath(os.path.join(os.getcwd(), '..', '..')))\n",
    "import prometheux_chain as pmtx"
   ]
  },
  {
   "cell_type": "code",
   "execution_count": 2,
   "id": "823631cf-0d4c-4440-929a-9e4565697133",
   "metadata": {
    "jupyter": {
     "source_hidden": true
    },
    "tags": []
   },
   "outputs": [],
   "source": [
    "import os\n",
    "\n",
    "PMTX_TOKEN = \"dev-token\"\n",
    "os.environ[\"PMTX_TOKEN\"] = PMTX_TOKEN"
   ]
  },
  {
   "cell_type": "markdown",
   "id": "fe6f3994",
   "metadata": {},
   "source": [
    "#### Project functions"
   ]
  },
  {
   "cell_type": "code",
   "execution_count": 3,
   "id": "aebefc0a",
   "metadata": {},
   "outputs": [
    {
     "name": "stdout",
     "output_type": "stream",
     "text": [
      "All user's projects deleted successfully\n"
     ]
    }
   ],
   "source": [
    "pmtx.cleanup_projects()"
   ]
  },
  {
   "cell_type": "code",
   "execution_count": 4,
   "id": "4ab1ca82",
   "metadata": {},
   "outputs": [
    {
     "data": {
      "text/plain": [
       "'203d8aec650'"
      ]
     },
     "execution_count": 4,
     "metadata": {},
     "output_type": "execute_result"
    }
   ],
   "source": [
    "project_id = pmtx.save_project(project_name=\"test_project\")\n",
    "project_id"
   ]
  },
  {
   "cell_type": "code",
   "execution_count": 5,
   "id": "77530416",
   "metadata": {},
   "outputs": [
    {
     "data": {
      "text/plain": [
       "[{'id': '203d8aec650',\n",
       "  'name': 'test_project',\n",
       "  'author': 'devuser',\n",
       "  'scope': 'user',\n",
       "  'to_persist': True,\n",
       "  'created_at': '2025-08-14T16:44:37.181247+00:00',\n",
       "  'updated_at': '2025-08-14T16:44:37.181247+00:00'}]"
      ]
     },
     "execution_count": 5,
     "metadata": {},
     "output_type": "execute_result"
    }
   ],
   "source": [
    "pmtx.list_projects()"
   ]
  },
  {
   "cell_type": "code",
   "execution_count": 6,
   "id": "ab28a457",
   "metadata": {},
   "outputs": [
    {
     "data": {
      "text/plain": [
       "{'id': '203d8aec650',\n",
       " 'name': 'test_project',\n",
       " 'author': 'devuser',\n",
       " 'scope': 'user',\n",
       " 'to_persist': True,\n",
       " 'created_at': '2025-08-14T16:44:37.181247+00:00',\n",
       " 'updated_at': '2025-08-14T16:44:37.181247+00:00'}"
      ]
     },
     "execution_count": 6,
     "metadata": {},
     "output_type": "execute_result"
    }
   ],
   "source": [
    "project = pmtx.load_project(project_id=project_id)\n",
    "project"
   ]
  },
  {
   "cell_type": "markdown",
   "id": "b2b345e0",
   "metadata": {},
   "source": [
    "#### Data functions"
   ]
  },
  {
   "cell_type": "code",
   "execution_count": 7,
   "id": "7a40b961",
   "metadata": {},
   "outputs": [
    {
     "name": "stdout",
     "output_type": "stream",
     "text": [
      "All data sources for workspace workspace_id deleted successfully\n"
     ]
    }
   ],
   "source": [
    "pmtx.cleanup_sources()"
   ]
  },
  {
   "cell_type": "code",
   "execution_count": 8,
   "id": "7331be80",
   "metadata": {},
   "outputs": [
    {
     "data": {
      "text/plain": [
       "{'connectionStatus': True,\n",
       " 'sources': [{'id': '8daab3d610af52f0b3c2b30710311724',\n",
       "   'bind_annotation': '@bind(\"ownership_csv\",\"csv useHeaders=\\'true\\'\",\"/Users/teodorobaldazzi/Documents/workdir/prometheux/prometheux_chain/test/notebooks/../resources/ownership\",\"ownership.csv\").',\n",
       "   'model_annotation': '@model(\"ownership_csv\", \"Owner:string,Company:string,Share:double\", \"\").',\n",
       "   'rule_block': '',\n",
       "   'row_count': 0,\n",
       "   'column_count': 3,\n",
       "   'author': 'devuser',\n",
       "   'timestamp': '2025-08-14T16:44:37.560456+00:00'}],\n",
       " 'errorMessage': None}"
      ]
     },
     "execution_count": 8,
     "metadata": {},
     "output_type": "execute_result"
    }
   ],
   "source": [
    "db = pmtx.data.database.Database(\n",
    "    database_type=\"csv\",\n",
    "    username=\"\",\n",
    "    password=\"\",\n",
    "    host=os.getcwd() + \"/../resources/ownership\",\n",
    "    port=0000,\n",
    "    database_name=\"ownership.csv\",\n",
    "    options={} #{\"delimiter\": \"\\t\"}\n",
    ")\n",
    "pmtx.connect_sources(database_payload=db)"
   ]
  },
  {
   "cell_type": "code",
   "execution_count": 9,
   "id": "fcf82eb9",
   "metadata": {},
   "outputs": [
    {
     "data": {
      "text/plain": [
       "[{'id': '8daab3d610af52f0b3c2b30710311724',\n",
       "  'bind_annotation': '@bind(\"ownership_csv\",\"csv useHeaders=\\'true\\'\",\"/Users/teodorobaldazzi/Documents/workdir/prometheux/prometheux_chain/test/notebooks/../resources/ownership\",\"ownership.csv\").',\n",
       "  'model_annotation': '@model(\"ownership_csv\", \"Owner:string,Company:string,Share:double\", \"\").',\n",
       "  'rule_block': '',\n",
       "  'row_count': 0,\n",
       "  'column_count': 3,\n",
       "  'author': 'devuser',\n",
       "  'timestamp': '2025-08-14T16:44:37.560456+00:00'}]"
      ]
     },
     "execution_count": 9,
     "metadata": {},
     "output_type": "execute_result"
    }
   ],
   "source": [
    "pmtx.list_sources()"
   ]
  },
  {
   "cell_type": "markdown",
   "id": "2722c6c0",
   "metadata": {},
   "source": [
    "#### Concept functions"
   ]
  },
  {
   "cell_type": "code",
   "execution_count": 10,
   "id": "d6a8525c",
   "metadata": {},
   "outputs": [],
   "source": [
    "pmtx.cleanup_concepts(project_id=project_id)"
   ]
  },
  {
   "cell_type": "code",
   "execution_count": 11,
   "id": "ba511a95",
   "metadata": {},
   "outputs": [],
   "source": [
    "concept_logic = \"\"\"\n",
    "ownership(Owner,Company,Shares) :- ownership_csv(Owner,Company,Shares).\n",
    "@output(\"ownership\").\n",
    "\"\"\"\n",
    "\n",
    "pmtx.save_concept(project_id=project_id, concept_logic=concept_logic)"
   ]
  },
  {
   "cell_type": "code",
   "execution_count": 12,
   "id": "7ea2d2d6",
   "metadata": {},
   "outputs": [],
   "source": [
    "concept_logic = \"\"\"\n",
    "owner(Owner) :- ownership(Owner,Company,Shares).\n",
    "@output(\"owner\").\n",
    "\"\"\"\n",
    "\n",
    "pmtx.save_concept(project_id=project_id, concept_logic=concept_logic)"
   ]
  },
  {
   "cell_type": "code",
   "execution_count": 13,
   "id": "457d43ba",
   "metadata": {},
   "outputs": [
    {
     "data": {
      "text/plain": [
       "{'message': \"Successfully ran concept 'ownership'\",\n",
       " 'concept_name': 'ownership',\n",
       " 'predicates_populated': [],\n",
       " 'total_records': 0,\n",
       " 'evaluation_results': {'id': 33,\n",
       "  'resultSet': {},\n",
       "  'types': {'ownership': ['STRING', 'STRING', 'DOUBLE']},\n",
       "  'columnNames': {'ownership': ['Owner', 'Company', 'Shares']}}}"
      ]
     },
     "execution_count": 13,
     "metadata": {},
     "output_type": "execute_result"
    }
   ],
   "source": [
    "pmtx.run_concept(project_id=project_id, concept_name=\"ownership\", persist_outputs=True)"
   ]
  },
  {
   "cell_type": "code",
   "execution_count": 14,
   "id": "af4b985b",
   "metadata": {},
   "outputs": [
    {
     "data": {
      "text/plain": [
       "[{'predicate_name': 'owner',\n",
       "  'fields': {'Owner': 'unknown'},\n",
       "  'column_count': 1,\n",
       "  'is_input': False,\n",
       "  'row_count': 0,\n",
       "  'type': 'api',\n",
       "  'timestamp': '2025-08-14T16:44:37.850103+00:00',\n",
       "  'author': 'devuser'},\n",
       " {'predicate_name': 'ownership',\n",
       "  'fields': {'Owner': 'string', 'Company': 'string', 'Shares': 'double'},\n",
       "  'column_count': 3,\n",
       "  'is_input': False,\n",
       "  'row_count': 0,\n",
       "  'type': 'app',\n",
       "  'timestamp': '2025-08-14T16:44:38.364037+00:00',\n",
       "  'author': 'devuser'},\n",
       " {'predicate_name': 'ownership_csv',\n",
       "  'fields': {'Owner': 'string', 'Company': 'string', 'Share': 'double'},\n",
       "  'column_count': 3,\n",
       "  'is_input': True,\n",
       "  'row_count': 0,\n",
       "  'type': 'csv',\n",
       "  'timestamp': '2025-08-14T16:44:37.560456+00:00',\n",
       "  'author': 'devuser'}]"
      ]
     },
     "execution_count": 14,
     "metadata": {},
     "output_type": "execute_result"
    }
   ],
   "source": [
    "pmtx.list_concepts(project_id=project_id)"
   ]
  },
  {
   "cell_type": "markdown",
   "id": "6030da6c",
   "metadata": {},
   "source": [
    "#### GraphRAG function"
   ]
  },
  {
   "cell_type": "code",
   "execution_count": 15,
   "id": "c657d76e",
   "metadata": {},
   "outputs": [
    {
     "data": {
      "text/plain": [
       "{'owner(Owner)': [['Acme Inc'],\n",
       "  ['John Doe'],\n",
       "  ['Umbrella Corp'],\n",
       "  ['Daniel Black']]}"
      ]
     },
     "execution_count": 15,
     "metadata": {},
     "output_type": "execute_result"
    }
   ],
   "source": [
    "graph_rag_result = pmtx.graph_rag(project_id=project_id,\n",
    "                                  question=\"This is the question\", \n",
    "                                  rag_concepts=[{\"concept\": \"ownership\", \"field_to_embed\": \"Owner\"}],\n",
    "                                  graph_concepts=[\"owner\"])\n",
    "\n",
    "graph_rag_result['graph_rag_results']"
   ]
  }
 ],
 "metadata": {
  "kernelspec": {
   "display_name": "venv",
   "language": "python",
   "name": "python3"
  },
  "language_info": {
   "codemirror_mode": {
    "name": "ipython",
    "version": 3
   },
   "file_extension": ".py",
   "mimetype": "text/x-python",
   "name": "python",
   "nbconvert_exporter": "python",
   "pygments_lexer": "ipython3",
   "version": "3.9.10"
  },
  "vadalog": {
   "programParameters": [],
   "version": 1
  }
 },
 "nbformat": 4,
 "nbformat_minor": 5
}
